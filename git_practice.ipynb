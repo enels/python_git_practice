{
 "cells": [
  {
   "cell_type": "code",
   "execution_count": 3,
   "id": "d10cd2ba-a3cd-485a-aaa2-c7c318fc6ce9",
   "metadata": {},
   "outputs": [],
   "source": [
    "import numpy as np"
   ]
  },
  {
   "cell_type": "code",
   "execution_count": 2,
   "id": "585c259b-1394-448f-82b4-9050706c2b6c",
   "metadata": {},
   "outputs": [
    {
     "name": "stdout",
     "output_type": "stream",
     "text": [
      "Defaulting to user installation because normal site-packages is not writeable\n",
      "Collecting scikit-learn\n",
      "  Downloading scikit_learn-1.5.1-cp310-cp310-manylinux_2_17_x86_64.manylinux2014_x86_64.whl (13.4 MB)\n",
      "\u001b[2K     \u001b[38;2;114;156;31m━━━━━━━━━━━━━━━━━━━━━━━━━━━━━━━━━━━━━━━\u001b[0m \u001b[32m13.4/13.4 MB\u001b[0m \u001b[31m401.4 kB/s\u001b[0m eta \u001b[36m0:00:00\u001b[0mm eta \u001b[36m0:00:01\u001b[0m[36m0:00:01\u001b[0m\n",
      "\u001b[?25hRequirement already satisfied: numpy>=1.19.5 in /home/enoma/.local/lib/python3.10/site-packages (from scikit-learn) (2.0.0)\n",
      "Collecting threadpoolctl>=3.1.0\n",
      "  Downloading threadpoolctl-3.5.0-py3-none-any.whl (18 kB)\n",
      "Collecting joblib>=1.2.0\n",
      "  Downloading joblib-1.4.2-py3-none-any.whl (301 kB)\n",
      "\u001b[2K     \u001b[38;2;114;156;31m━━━━━━━━━━━━━━━━━━━━━━━━━━━━━━━━━━━━━\u001b[0m \u001b[32m301.8/301.8 KB\u001b[0m \u001b[31m367.4 kB/s\u001b[0m eta \u001b[36m0:00:00\u001b[0m[36m0:00:01\u001b[0mm eta \u001b[36m0:00:01\u001b[0m\n",
      "\u001b[?25hCollecting scipy>=1.6.0\n",
      "  Downloading scipy-1.14.0-cp310-cp310-manylinux_2_17_x86_64.manylinux2014_x86_64.whl (41.1 MB)\n",
      "\u001b[2K     \u001b[38;2;114;156;31m━━━━━━━━━━━━━━━━━━━━━━━━━━━━━━━━━━━━━━━\u001b[0m \u001b[32m41.1/41.1 MB\u001b[0m \u001b[31m230.6 kB/s\u001b[0m eta \u001b[36m0:00:00\u001b[0mm eta \u001b[36m0:00:01\u001b[0m[36m0:00:03\u001b[0m\n",
      "\u001b[?25hInstalling collected packages: threadpoolctl, scipy, joblib, scikit-learn\n",
      "Successfully installed joblib-1.4.2 scikit-learn-1.5.1 scipy-1.14.0 threadpoolctl-3.5.0\n",
      "Note: you may need to restart the kernel to use updated packages.\n"
     ]
    }
   ],
   "source": [
    "pip install scikit-learn"
   ]
  },
  {
   "cell_type": "code",
   "execution_count": 1,
   "id": "3c643b7d-ae94-4135-aff9-f494afde8b1a",
   "metadata": {},
   "outputs": [
    {
     "name": "stdout",
     "output_type": "stream",
     "text": [
      "Hello, World\n"
     ]
    }
   ],
   "source": [
    "print(\"Hello, World\")"
   ]
  },
  {
   "cell_type": "code",
   "execution_count": 2,
   "id": "8cc647d9-923b-4466-80ab-2bc58e75c664",
   "metadata": {},
   "outputs": [
    {
     "name": "stdout",
     "output_type": "stream",
     "text": [
      "0\n",
      "2\n",
      "4\n",
      "6\n",
      "8\n",
      "10\n",
      "12\n",
      "14\n",
      "16\n",
      "18\n"
     ]
    }
   ],
   "source": [
    "for n in range(10):\n",
    "    print(n * 2)"
   ]
  },
  {
   "cell_type": "code",
   "execution_count": 8,
   "id": "447dedd2-a33e-48f8-921a-809ff1dc3a27",
   "metadata": {},
   "outputs": [
    {
     "data": {
      "text/plain": [
       "array([[ 1.27854312e+00,  1.12513508e+00,  7.14443176e-01,\n",
       "         1.91037335e+00, -8.47501702e-01],\n",
       "       [ 8.55853462e-02, -3.45271297e-01,  2.64847604e-01,\n",
       "         8.12080875e-01, -9.19043804e-01],\n",
       "       [-4.92760807e-02,  4.80207706e-01, -1.28553956e+00,\n",
       "         3.69916585e-01,  1.73567306e-01],\n",
       "       [-6.66410598e-01, -1.95674883e-01,  2.25778731e-01,\n",
       "         1.14580715e+00,  1.40745002e+00],\n",
       "       [ 1.15284721e+00,  2.50653587e+00,  3.37979665e-02,\n",
       "         6.74638960e-01, -1.36250963e+00],\n",
       "       [ 7.69907054e-01, -5.12367887e-02,  1.49501759e+00,\n",
       "        -1.18114853e+00,  7.09778367e-01],\n",
       "       [ 3.04514698e-01, -7.23968827e-01,  8.13792620e-01,\n",
       "        -7.28259540e-01,  1.47037775e+00],\n",
       "       [-1.21758929e+00,  1.01737896e+00, -8.91970356e-01,\n",
       "        -2.25429442e+00,  1.98183280e+00],\n",
       "       [ 1.70398764e+00,  6.10480818e-01,  2.62845785e+00,\n",
       "        -9.70173932e-01, -3.83673112e-01],\n",
       "       [-5.06230912e-01, -8.86114355e-01,  1.24315938e+00,\n",
       "        -1.35598710e+00,  9.62295488e-01],\n",
       "       [-8.13739371e-01,  1.38574159e+00, -9.12660976e-01,\n",
       "         3.73239101e-02, -4.41494336e-01],\n",
       "       [ 1.24098202e-01, -1.18781815e-01, -1.91380388e+00,\n",
       "        -2.43214812e-01,  1.78597930e+00],\n",
       "       [ 9.74780560e-02, -6.88050821e-01,  6.96923920e-01,\n",
       "        -2.61727665e+00,  1.59372330e+00],\n",
       "       [ 6.16949263e-01,  8.16559266e-01,  4.44732257e-01,\n",
       "        -8.52833596e-01, -2.04194499e-02],\n",
       "       [ 1.56207037e+00, -4.03594778e-01,  1.44641881e-02,\n",
       "        -9.52271698e-01,  1.82352879e+00],\n",
       "       [ 5.97017886e-01, -8.38556653e-01, -5.31348844e-01,\n",
       "         5.40722606e-01, -5.86951070e-01],\n",
       "       [-5.89239414e-01,  9.55112368e-01, -3.36084437e-01,\n",
       "         4.93644514e-02, -7.41416398e-01],\n",
       "       [ 6.82188511e-01, -4.79366564e-02, -1.59290330e+00,\n",
       "        -5.54136354e-01, -5.13651398e-01],\n",
       "       [ 1.36418374e-01,  3.74857045e-01, -5.53904746e-01,\n",
       "         1.16560311e+00,  5.93629321e-02],\n",
       "       [-1.05411236e+00,  1.14634901e+00,  2.12463709e-01,\n",
       "        -1.16121345e+00, -1.87325205e+00],\n",
       "       [-8.45919549e-01,  8.78965334e-01, -4.49828768e-01,\n",
       "        -3.04179995e-01, -9.91927592e-01],\n",
       "       [ 6.38358488e-02,  2.63714194e+00, -1.57497698e+00,\n",
       "         1.02376671e-01,  8.90602566e-01],\n",
       "       [ 1.73986314e+00, -1.32313103e+00,  8.73022787e-03,\n",
       "         1.04994203e+00, -7.81441969e-01],\n",
       "       [ 6.13903155e-01,  9.53661030e-01, -7.31123723e-01,\n",
       "        -2.06425439e-01, -1.61724885e+00],\n",
       "       [ 3.93480801e-01,  2.34614204e+00, -4.57394988e-01,\n",
       "        -1.40090451e-01, -1.10057888e+00],\n",
       "       [-1.25817633e+00,  2.35019013e-01, -1.70258036e+00,\n",
       "         1.22725874e+00, -8.40310996e-01],\n",
       "       [-4.74995740e-01,  1.24101083e+00,  2.01389958e+00,\n",
       "        -5.93578096e-01, -1.14015732e+00],\n",
       "       [ 8.07724822e-01, -1.62830010e+00,  1.01946298e+00,\n",
       "        -2.50214441e-01,  2.66565334e-01],\n",
       "       [ 1.77442388e+00, -5.18619187e-01, -1.91325447e+00,\n",
       "         1.84119481e+00,  1.23861436e+00],\n",
       "       [-2.09364218e+00, -1.33132539e+00,  8.40789275e-01,\n",
       "         4.39071175e-02, -4.82939295e-01],\n",
       "       [-7.20233383e-01, -2.02305826e+00,  1.21346925e+00,\n",
       "        -7.58519921e-01,  1.53825227e-01],\n",
       "       [-1.81804704e-01,  1.75290077e-01,  1.48653829e+00,\n",
       "         6.94096341e-01, -4.56456443e-01],\n",
       "       [ 1.72273983e+00, -1.44110200e-01,  2.62453700e+00,\n",
       "        -2.38126856e-01, -1.18202122e+00],\n",
       "       [ 1.79770306e+00,  1.02583095e+00,  4.99687959e-01,\n",
       "         4.62000065e-02,  1.77705792e-02],\n",
       "       [ 8.24270778e-01,  1.15849083e+00,  5.16017313e-02,\n",
       "         2.07625486e-01,  1.81371553e-02],\n",
       "       [-9.81889727e-01,  5.45662627e-01, -1.13865352e+00,\n",
       "         1.46084489e+00,  1.23041062e+00],\n",
       "       [ 1.22553669e-01, -4.76102671e-01, -9.28700022e-01,\n",
       "         4.30491371e-02,  1.23431754e+00],\n",
       "       [ 7.87797827e-01,  6.82268597e-01,  5.32348918e-01,\n",
       "        -1.12691776e+00,  2.59464937e+00],\n",
       "       [ 4.72277107e-01,  5.79700378e-01, -9.42640846e-01,\n",
       "         1.77430571e-01,  1.34178606e+00],\n",
       "       [-1.86429392e-01,  6.29572159e-02, -2.21803310e-01,\n",
       "        -1.40715410e+00,  1.31901504e+00],\n",
       "       [-4.43431593e-01, -5.01843154e-01, -2.16802363e-01,\n",
       "        -1.02663199e+00, -3.27886771e-01],\n",
       "       [ 3.44036383e-01,  1.19180603e+00,  6.34718336e-01,\n",
       "        -4.36668645e-01, -1.17093183e+00],\n",
       "       [-6.50697675e-01, -7.59278560e-04, -6.74226810e-01,\n",
       "        -1.66916353e+00, -1.99508810e-01],\n",
       "       [-4.58143389e-01, -8.68952683e-01,  3.83219452e-01,\n",
       "        -1.55974217e+00,  6.75447349e-01],\n",
       "       [-1.46066334e+00,  1.46215337e+00, -1.08716216e+00,\n",
       "        -9.17577855e-01, -6.34858139e-01],\n",
       "       [ 7.05035567e-01, -1.53851741e+00, -1.74511828e+00,\n",
       "        -1.06084223e+00,  1.13381897e+00],\n",
       "       [-6.92727646e-03, -7.00335262e-01, -1.12092907e+00,\n",
       "        -3.75233618e-01, -7.65176630e-01],\n",
       "       [ 1.26799074e+00,  4.33636739e-01,  1.66266925e+00,\n",
       "         8.45802409e-01,  6.33512537e-01],\n",
       "       [ 1.82124760e+00,  5.58326068e-01, -1.77727828e+00,\n",
       "         1.00692192e+00,  1.40263772e+00],\n",
       "       [-5.83786451e-01,  1.11549462e+00,  1.35467362e+00,\n",
       "         1.23175830e-01,  1.50805022e-01],\n",
       "       [-6.88682371e-01, -1.60687620e+00, -7.60494621e-01,\n",
       "        -4.74454479e-01, -1.14117346e+00],\n",
       "       [ 4.97111198e-01,  1.09336346e-01, -1.60044720e+00,\n",
       "         3.57964042e-01,  4.11744316e-01],\n",
       "       [ 1.48655686e+00,  9.97704343e-01,  9.64775229e-01,\n",
       "         1.05532991e+00, -1.78092962e+00],\n",
       "       [ 4.96086454e-01,  1.83357899e-01,  7.83649638e-01,\n",
       "         6.84623145e-01,  8.20149961e-01],\n",
       "       [-1.40702654e+00,  2.02027425e-01, -1.76483977e+00,\n",
       "        -1.02198343e+00,  4.28762100e-01],\n",
       "       [-2.84313743e-01, -2.56140877e+00, -9.59128651e-01,\n",
       "        -6.31221377e-01, -2.45505404e+00],\n",
       "       [-4.24315416e-01, -2.58091854e-01,  1.85117074e+00,\n",
       "         1.25995051e-01, -6.26992211e-01],\n",
       "       [ 3.85949975e-01,  2.61630071e-01, -1.12194396e+00,\n",
       "        -5.88166140e-01,  4.63034947e-01],\n",
       "       [ 1.15149093e+00,  2.17563879e-01, -1.59162626e+00,\n",
       "         1.20518868e+00, -2.97520059e-01],\n",
       "       [-2.17637602e-01, -9.25961985e-02,  9.67314217e-01,\n",
       "        -1.13140427e-01,  6.06909324e-01],\n",
       "       [ 4.11419480e-01,  2.66430548e+00, -9.58172086e-01,\n",
       "         1.52627284e+00,  3.37335967e-01],\n",
       "       [-6.04714968e-01, -6.70261243e-01,  7.16013159e-01,\n",
       "         1.55973235e+00, -5.83970875e-01],\n",
       "       [ 4.26001790e-02,  9.48254190e-01, -1.10259097e+00,\n",
       "         1.58195296e+00, -1.15126092e+00],\n",
       "       [ 3.70550148e-01,  1.88340053e+00, -1.87031398e+00,\n",
       "        -2.59316023e+00, -6.03141567e-01],\n",
       "       [ 1.42989052e+00,  1.00345274e+00,  1.29361462e+00,\n",
       "         2.71483301e-01,  1.76196478e+00],\n",
       "       [-1.16785159e+00, -9.33146269e-01,  6.25241967e-01,\n",
       "         1.76498471e+00,  2.31231535e-01],\n",
       "       [-3.34486339e-01,  8.03901870e-01,  1.09215389e+00,\n",
       "        -9.41027513e-02, -9.08706826e-01],\n",
       "       [ 1.52345510e+00,  1.94014920e-01, -6.90138518e-01,\n",
       "        -1.25658645e+00,  8.23004492e-01],\n",
       "       [-1.28610908e-02,  6.53314014e-01,  1.75818971e-01,\n",
       "        -9.00288058e-01,  2.72832280e-02],\n",
       "       [-1.16248833e+00,  1.72176803e+00, -2.52315085e+00,\n",
       "         2.92977471e-01,  1.88708842e-01],\n",
       "       [-9.79161115e-02, -3.06005490e-01,  3.16725710e-01,\n",
       "        -3.93174808e-01,  1.39408356e+00],\n",
       "       [-4.14350215e-01,  4.56920300e-01,  1.19415196e+00,\n",
       "        -1.05087061e+00, -1.71324436e-01],\n",
       "       [-1.92033393e+00,  3.94908415e-01, -1.11016624e+00,\n",
       "         1.22597373e+00, -1.22080967e+00],\n",
       "       [ 1.77836695e-01,  1.05198842e+00, -1.59285947e+00,\n",
       "        -2.00363446e+00, -3.01622602e-01],\n",
       "       [ 1.17258172e+00,  1.25735511e+00,  5.37259344e-01,\n",
       "         1.28922469e+00, -4.37890446e-01],\n",
       "       [ 2.86342725e+00, -9.73175996e-01,  1.70742339e+00,\n",
       "        -2.94350640e-01,  8.52269723e-01],\n",
       "       [ 3.80930883e-01,  5.76582815e-01,  1.31653603e+00,\n",
       "        -5.37736331e-01,  1.40916862e+00],\n",
       "       [ 3.36330638e-01,  1.53642141e-01, -4.67867834e-01,\n",
       "         8.70894624e-01,  4.04494775e-01],\n",
       "       [ 8.37792094e-01,  2.55240001e-01,  9.11947139e-01,\n",
       "         1.92904116e-01,  1.42179816e+00],\n",
       "       [-8.75813999e-01,  3.43821989e-01,  1.33019451e+00,\n",
       "        -1.04322901e+00,  1.22715905e+00],\n",
       "       [-1.21242462e+00, -1.34015517e+00, -1.46916400e-01,\n",
       "         5.99393581e-01,  7.26122818e-01],\n",
       "       [-1.06620347e-01, -6.78649209e-01, -3.35500497e-01,\n",
       "        -1.26257682e+00,  1.00431300e+00],\n",
       "       [ 1.73222857e+00,  1.29817143e+00, -1.42834635e-01,\n",
       "        -5.81745568e-01, -7.95428989e-01],\n",
       "       [-1.99637251e-02, -8.33795041e-01,  7.42496262e-01,\n",
       "         4.72293140e-01, -7.92014191e-01],\n",
       "       [-1.07616121e+00, -1.57965459e+00,  7.89784311e-01,\n",
       "         1.20879341e+00,  3.35658937e-01],\n",
       "       [-6.00380277e-01, -8.88600673e-01, -1.09576603e+00,\n",
       "        -5.84852658e-01,  7.64262533e-01],\n",
       "       [ 6.84296448e-01,  2.31339366e-01,  1.09383365e-01,\n",
       "        -1.85778269e+00, -1.63042682e-01],\n",
       "       [ 4.78461821e-01, -2.24650286e+00, -2.24652769e+00,\n",
       "         2.14675726e-01, -1.36090821e+00],\n",
       "       [ 1.03538042e-01, -1.08118748e+00, -2.53169369e+00,\n",
       "         1.09999571e+00,  6.59013686e-01],\n",
       "       [ 3.34258672e-01, -1.84220469e-01, -6.85033899e-02,\n",
       "        -3.42667129e-01, -2.17179729e-01],\n",
       "       [ 1.62949213e+00, -1.57529413e+00, -6.74372272e-01,\n",
       "        -1.17820856e+00,  4.67940907e-01],\n",
       "       [-1.55318939e-01, -3.33306166e-01,  6.50527621e-02,\n",
       "         4.46390111e-01,  1.24850405e+00],\n",
       "       [ 2.20630902e-01,  1.05760902e+00, -9.27249587e-01,\n",
       "         2.04179800e-01, -1.79614499e+00],\n",
       "       [ 3.50215335e-01,  1.64187991e-01,  6.68606797e-01,\n",
       "        -9.66076134e-01, -2.29147121e-01],\n",
       "       [-7.35409764e-01,  2.86514515e-01,  1.12229627e+00,\n",
       "        -9.21551794e-01, -1.77123878e+00],\n",
       "       [-1.67906147e+00, -3.22364632e-01, -4.44746809e-02,\n",
       "         7.66234762e-01, -3.64147671e-01],\n",
       "       [-6.13086230e-01, -1.51008819e+00,  8.90622320e-01,\n",
       "         7.37546323e-01, -9.94783196e-01],\n",
       "       [-4.20442219e-01, -7.60323845e-01, -1.68760637e+00,\n",
       "        -8.12041347e-01, -6.51382804e-01],\n",
       "       [-1.07960006e-01,  5.21528815e-01,  1.31698328e-01,\n",
       "        -8.93163849e-01,  9.69593891e-01],\n",
       "       [ 1.74888952e-01, -1.14376900e+00, -5.09192800e-01,\n",
       "         1.53714100e+00, -8.88977782e-01]])"
      ]
     },
     "execution_count": 8,
     "metadata": {},
     "output_type": "execute_result"
    }
   ],
   "source": [
    "import numpy as np\n",
    "\n",
    "np.random.randn(100, 5)"
   ]
  },
  {
   "cell_type": "code",
   "execution_count": 9,
   "id": "8e860e80-49f8-4614-87c0-4db7f3d53220",
   "metadata": {},
   "outputs": [
    {
     "name": "stdout",
     "output_type": "stream",
     "text": [
      "Defaulting to user installation because normal site-packages is not writeable\n",
      "Collecting pandas\n",
      "  Downloading pandas-2.2.2-cp310-cp310-manylinux_2_17_x86_64.manylinux2014_x86_64.whl (13.0 MB)\n",
      "\u001b[2K     \u001b[38;2;114;156;31m━━━━━━━━━━━━━━━━━━━━━━━━━━━━━━━━━━━━━━━\u001b[0m \u001b[32m13.0/13.0 MB\u001b[0m \u001b[31m199.3 kB/s\u001b[0m eta \u001b[36m0:00:00\u001b[0mm eta \u001b[36m0:00:01\u001b[0m[36m0:00:02\u001b[0m\n",
      "\u001b[?25hRequirement already satisfied: pytz>=2020.1 in /usr/lib/python3/dist-packages (from pandas) (2022.1)\n",
      "Collecting tzdata>=2022.7\n",
      "  Downloading tzdata-2024.1-py2.py3-none-any.whl (345 kB)\n",
      "\u001b[2K     \u001b[38;2;114;156;31m━━━━━━━━━━━━━━━━━━━━━━━━━━━━━━━━━━━━━\u001b[0m \u001b[32m345.4/345.4 KB\u001b[0m \u001b[31m573.9 kB/s\u001b[0m eta \u001b[36m0:00:00\u001b[0m kB/s\u001b[0m eta \u001b[36m0:00:01\u001b[0m:01\u001b[0m\n",
      "\u001b[?25hRequirement already satisfied: numpy>=1.22.4 in /home/enoma/.local/lib/python3.10/site-packages (from pandas) (2.0.0)\n",
      "Requirement already satisfied: python-dateutil>=2.8.2 in /home/enoma/.local/lib/python3.10/site-packages (from pandas) (2.8.2)\n",
      "Requirement already satisfied: six>=1.5 in /usr/lib/python3/dist-packages (from python-dateutil>=2.8.2->pandas) (1.16.0)\n",
      "Installing collected packages: tzdata, pandas\n",
      "Successfully installed pandas-2.2.2 tzdata-2024.1\n",
      "Note: you may need to restart the kernel to use updated packages.\n"
     ]
    }
   ],
   "source": [
    "%pip install pandas"
   ]
  },
  {
   "cell_type": "code",
   "execution_count": 5,
   "id": "7c6ac4b9-7ffa-4995-9f7a-f792909cbe19",
   "metadata": {},
   "outputs": [
    {
     "name": "stdout",
     "output_type": "stream",
     "text": [
      "Defaulting to user installation because normal site-packages is not writeable\n",
      "Collecting numpy\n",
      "  Downloading numpy-2.0.0-cp310-cp310-manylinux_2_17_x86_64.manylinux2014_x86_64.whl (19.3 MB)\n",
      "\u001b[2K     \u001b[38;2;114;156;31m━━━━━━━━━━━━━━━━━━━━━━━━━━━━━━━━━━━━━━━\u001b[0m \u001b[32m19.3/19.3 MB\u001b[0m \u001b[31m228.1 kB/s\u001b[0m eta \u001b[36m0:00:00\u001b[0mm eta \u001b[36m0:00:01\u001b[0m[36m0:00:03\u001b[0m\n",
      "\u001b[?25hInstalling collected packages: numpy\n",
      "Successfully installed numpy-2.0.0\n",
      "Note: you may need to restart the kernel to use updated packages.\n"
     ]
    }
   ],
   "source": [
    "%pip install numpy"
   ]
  },
  {
   "cell_type": "code",
   "execution_count": 10,
   "id": "fc33e4c1-5a3b-4993-8748-1cf3c3a35425",
   "metadata": {},
   "outputs": [
    {
     "name": "stdout",
     "output_type": "stream",
     "text": [
      "Defaulting to user installation because normal site-packages is not writeable\n",
      "Collecting matplotlib\n",
      "  Downloading matplotlib-3.9.1-cp310-cp310-manylinux_2_17_x86_64.manylinux2014_x86_64.whl (8.3 MB)\n",
      "\u001b[2K     \u001b[38;2;114;156;31m━━━━━━━━━━━━━━━━━━━━━━━━━━━━━━━━━━━━━━━━\u001b[0m \u001b[32m8.3/8.3 MB\u001b[0m \u001b[31m404.8 kB/s\u001b[0m eta \u001b[36m0:00:00\u001b[0mm eta \u001b[36m0:00:01\u001b[0m[36m0:00:01\u001b[0m\n",
      "\u001b[?25hCollecting kiwisolver>=1.3.1\n",
      "  Downloading kiwisolver-1.4.5-cp310-cp310-manylinux_2_12_x86_64.manylinux2010_x86_64.whl (1.6 MB)\n",
      "\u001b[2K     \u001b[38;2;114;156;31m━━━━━━━━━━━━━━━━━━━━━━━━━━━━━━━━━━━━━━━━\u001b[0m \u001b[32m1.6/1.6 MB\u001b[0m \u001b[31m324.0 kB/s\u001b[0m eta \u001b[36m0:00:00\u001b[0mm eta \u001b[36m0:00:01\u001b[0m[36m0:00:01\u001b[0m\n",
      "\u001b[?25hRequirement already satisfied: python-dateutil>=2.7 in /home/enoma/.local/lib/python3.10/site-packages (from matplotlib) (2.8.2)\n",
      "Collecting fonttools>=4.22.0\n",
      "  Downloading fonttools-4.53.1-cp310-cp310-manylinux_2_17_x86_64.manylinux2014_x86_64.whl (4.6 MB)\n",
      "\u001b[2K     \u001b[38;2;114;156;31m━━━━━━━━━━━━━━━━━━━━━━━━━━━━━━━━━━━━━━━━\u001b[0m \u001b[32m4.6/4.6 MB\u001b[0m \u001b[31m602.1 kB/s\u001b[0m eta \u001b[36m0:00:00\u001b[0mm eta \u001b[36m0:00:01\u001b[0m[36m0:00:01\u001b[0m\n",
      "\u001b[?25hRequirement already satisfied: pyparsing>=2.3.1 in /usr/lib/python3/dist-packages (from matplotlib) (2.4.7)\n",
      "Collecting cycler>=0.10\n",
      "  Downloading cycler-0.12.1-py3-none-any.whl (8.3 kB)\n",
      "Requirement already satisfied: numpy>=1.23 in /home/enoma/.local/lib/python3.10/site-packages (from matplotlib) (2.0.0)\n",
      "Collecting contourpy>=1.0.1\n",
      "  Downloading contourpy-1.2.1-cp310-cp310-manylinux_2_17_x86_64.manylinux2014_x86_64.whl (305 kB)\n",
      "\u001b[2K     \u001b[38;2;114;156;31m━━━━━━━━━━━━━━━━━━━━━━━━━━━━━━━━━━━━━\u001b[0m \u001b[32m305.2/305.2 KB\u001b[0m \u001b[31m361.7 kB/s\u001b[0m eta \u001b[36m0:00:00\u001b[0m1m350.2 kB/s\u001b[0m eta \u001b[36m0:00:01\u001b[0m\n",
      "\u001b[?25hRequirement already satisfied: pillow>=8 in /usr/lib/python3/dist-packages (from matplotlib) (9.0.1)\n",
      "Requirement already satisfied: packaging>=20.0 in /home/enoma/.local/lib/python3.10/site-packages (from matplotlib) (23.2)\n",
      "Requirement already satisfied: six>=1.5 in /usr/lib/python3/dist-packages (from python-dateutil>=2.7->matplotlib) (1.16.0)\n",
      "Installing collected packages: kiwisolver, fonttools, cycler, contourpy, matplotlib\n",
      "Successfully installed contourpy-1.2.1 cycler-0.12.1 fonttools-4.53.1 kiwisolver-1.4.5 matplotlib-3.9.1\n",
      "Note: you may need to restart the kernel to use updated packages.\n"
     ]
    }
   ],
   "source": [
    "%pip install matplotlib"
   ]
  },
  {
   "cell_type": "code",
   "execution_count": 12,
   "id": "80ab0c13-b432-4715-aae1-50248657e762",
   "metadata": {},
   "outputs": [
    {
     "name": "stderr",
     "output_type": "stream",
     "text": [
      "UsageError: %%python3 is a cell magic, but the cell body is empty.\n"
     ]
    }
   ],
   "source": [
    "%%python3 -m venv sklearn-env"
   ]
  },
  {
   "cell_type": "code",
   "execution_count": 6,
   "id": "b3c55390-f5f1-4332-92b3-2a582d93e5d0",
   "metadata": {},
   "outputs": [
    {
     "data": {
      "text/plain": [
       "39"
      ]
     },
     "execution_count": 6,
     "metadata": {},
     "output_type": "execute_result"
    }
   ],
   "source": [
    "def sum (n, m):\n",
    "    return n + m\n",
    "\n",
    "\n",
    "sum(10, 29)"
   ]
  },
  {
   "cell_type": "code",
   "execution_count": 4,
   "id": "d4102056-7abb-44c0-aa05-73bc9889e3f2",
   "metadata": {},
   "outputs": [
    {
     "data": {
      "text/plain": [
       "9"
      ]
     },
     "execution_count": 4,
     "metadata": {},
     "output_type": "execute_result"
    }
   ],
   "source": [
    "sum(2, 7)"
   ]
  },
  {
   "cell_type": "code",
   "execution_count": 1,
   "id": "02b83da2-d608-4c5b-9f0f-7c9276d773f7",
   "metadata": {},
   "outputs": [
    {
     "name": "stderr",
     "output_type": "stream",
     "text": [
      "UsageError: Line magic function `%paste` not found.\n"
     ]
    }
   ],
   "source": [
    "%paste"
   ]
  },
  {
   "cell_type": "code",
   "execution_count": 1,
   "id": "037cd0ef-a7db-4795-b37e-311fedb16917",
   "metadata": {},
   "outputs": [
    {
     "name": "stdout",
     "output_type": "stream",
     "text": [
      "\n",
      "* * * * * * * * * * * * * * * * * * * * \n",
      "* * * * * * * * * * * * * * * * * * * * \n",
      "* * * * * * * * * * * * * * * * * * * * \n",
      "* * * * * * * * * * * * * * * * * * * * \n",
      "* * * * * * * * * * * * * * * * * * * * "
     ]
    }
   ],
   "source": [
    "for n in range(5):\n",
    "            print()\n",
    "            for n in range(20):\n",
    "                print(\"* \", end=\"\")"
   ]
  },
  {
   "cell_type": "code",
   "execution_count": 8,
   "id": "c607cd9d-bf76-4b73-896b-7cbccf649a0f",
   "metadata": {},
   "outputs": [],
   "source": [
    "def factorial(n):\n",
    "    result = 1\n",
    "    for n in range(2, n+1):\n",
    "        result *= n\n",
    "\n",
    "    return result"
   ]
  },
  {
   "cell_type": "code",
   "execution_count": 13,
   "id": "f1781519-de7b-44d9-831b-e0b8a3e579d1",
   "metadata": {},
   "outputs": [],
   "source": [
    "def factorial_recur(n):\n",
    "    if n == 1:\n",
    "        return n\n",
    "    return n * factorial_recur(n-1)"
   ]
  },
  {
   "cell_type": "code",
   "execution_count": 16,
   "id": "b95b57cf-6ccb-47d4-bd26-12c20f9cfded",
   "metadata": {},
   "outputs": [
    {
     "data": {
      "text/plain": [
       "120"
      ]
     },
     "execution_count": 16,
     "metadata": {},
     "output_type": "execute_result"
    }
   ],
   "source": [
    "factorial(5)"
   ]
  },
  {
   "cell_type": "code",
   "execution_count": 17,
   "id": "5bc99a3c-b49a-4e07-a922-cbdb952335e8",
   "metadata": {},
   "outputs": [
    {
     "data": {
      "text/plain": [
       "3628800"
      ]
     },
     "execution_count": 17,
     "metadata": {},
     "output_type": "execute_result"
    }
   ],
   "source": [
    "factorial_recur(10)"
   ]
  }
 ],
 "metadata": {
  "kernelspec": {
   "display_name": "sklearn-env",
   "language": "python",
   "name": "sklearn-env"
  },
  "language_info": {
   "codemirror_mode": {
    "name": "ipython",
    "version": 3
   },
   "file_extension": ".py",
   "mimetype": "text/x-python",
   "name": "python",
   "nbconvert_exporter": "python",
   "pygments_lexer": "ipython3",
   "version": "3.10.12"
  }
 },
 "nbformat": 4,
 "nbformat_minor": 5
}
